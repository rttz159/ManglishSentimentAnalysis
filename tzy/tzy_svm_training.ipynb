{
 "cells": [
  {
   "cell_type": "code",
   "execution_count": 4,
   "metadata": {},
   "outputs": [
    {
     "name": "stdout",
     "output_type": "stream",
     "text": [
      "Requirement already satisfied: nltk in c:\\users\\xlewi\\appdata\\local\\programs\\python\\python312\\lib\\site-packages (3.9.1)\n",
      "Requirement already satisfied: click in c:\\users\\xlewi\\appdata\\local\\programs\\python\\python312\\lib\\site-packages (from nltk) (8.1.8)\n",
      "Requirement already satisfied: joblib in c:\\users\\xlewi\\appdata\\local\\programs\\python\\python312\\lib\\site-packages (from nltk) (1.4.2)\n",
      "Requirement already satisfied: regex>=2021.8.3 in c:\\users\\xlewi\\appdata\\local\\programs\\python\\python312\\lib\\site-packages (from nltk) (2024.11.6)\n",
      "Requirement already satisfied: tqdm in c:\\users\\xlewi\\appdata\\local\\programs\\python\\python312\\lib\\site-packages (from nltk) (4.67.1)\n",
      "Requirement already satisfied: colorama in c:\\users\\xlewi\\appdata\\local\\programs\\python\\python312\\lib\\site-packages (from click->nltk) (0.4.6)\n",
      "Note: you may need to restart the kernel to use updated packages.\n"
     ]
    }
   ],
   "source": [
    "pip install nltk"
   ]
  },
  {
   "cell_type": "code",
   "execution_count": 5,
   "metadata": {},
   "outputs": [
    {
     "name": "stderr",
     "output_type": "stream",
     "text": [
      "[nltk_data] Downloading package vader_lexicon to\n",
      "[nltk_data]     C:\\Users\\XLewi\\AppData\\Roaming\\nltk_data...\n"
     ]
    },
    {
     "data": {
      "text/plain": [
       "True"
      ]
     },
     "execution_count": 5,
     "metadata": {},
     "output_type": "execute_result"
    }
   ],
   "source": [
    "import nltk\n",
    "nltk.download('vader_lexicon')"
   ]
  },
  {
   "cell_type": "code",
   "execution_count": 7,
   "metadata": {},
   "outputs": [
    {
     "name": "stdout",
     "output_type": "stream",
     "text": [
      "rating_star\n",
      "2    4438\n",
      "0    3123\n",
      "1    1964\n",
      "Name: count, dtype: int64\n"
     ]
    }
   ],
   "source": [
    "df = pd.read_csv(\"data/processed_data.csv\")\n",
    "print(df['rating_star'].value_counts())"
   ]
  },
  {
   "cell_type": "code",
   "execution_count": 6,
   "metadata": {},
   "outputs": [
    {
     "name": "stdout",
     "output_type": "stream",
     "text": [
      "Fitting 5 folds for each of 24 candidates, totalling 120 fits\n",
      "Best SVM Parameters: {'C': 0.1, 'class_weight': 'balanced', 'gamma': 'scale', 'kernel': 'linear'}\n"
     ]
    }
   ],
   "source": [
    "import pandas as pd\n",
    "import numpy as np\n",
    "from sklearn.model_selection import GridSearchCV, train_test_split\n",
    "from sklearn.svm import SVC\n",
    "from sklearn.feature_extraction.text import TfidfVectorizer\n",
    "from imblearn.over_sampling import SMOTE\n",
    "import joblib\n",
    "from nltk.sentiment import SentimentIntensityAnalyzer\n",
    "from scipy.sparse import hstack\n",
    "from sklearn.model_selection import StratifiedKFold\n",
    "\n",
    "df = pd.read_csv(\"data/processed_data.csv\")\n",
    "\n",
    "train_texts, val_texts, train_labels, val_labels = train_test_split(\n",
    "    df[\"comment\"], df[\"rating_star\"], test_size=0.2, random_state=42, stratify=df[\"rating_star\"]\n",
    ")\n",
    "\n",
    "vectorizer = TfidfVectorizer(\n",
    "    max_features=10000, ngram_range=(1, 3), stop_words=\"english\", min_df=2, max_df=0.9\n",
    ")\n",
    "\n",
    "X_train_tfidf = vectorizer.fit_transform(train_texts)\n",
    "X_val_tfidf = vectorizer.transform(val_texts)\n",
    "\n",
    "analyzer = SentimentIntensityAnalyzer()\n",
    "\n",
    "def extract_lexicon_features(text_series):\n",
    "    sentiment_features = np.array([\n",
    "        [analyzer.polarity_scores(text)[\"neg\"],  \n",
    "         analyzer.polarity_scores(text)[\"neu\"],  \n",
    "         analyzer.polarity_scores(text)[\"pos\"],  \n",
    "         analyzer.polarity_scores(text)[\"compound\"]] \n",
    "        for text in text_series\n",
    "    ])\n",
    "    return sentiment_features\n",
    "\n",
    "X_train_lexicon = extract_lexicon_features(train_texts)\n",
    "X_val_lexicon = extract_lexicon_features(val_texts)\n",
    "\n",
    "X_train_combined = hstack([X_train_tfidf, X_train_lexicon])\n",
    "X_val_combined = hstack([X_val_tfidf, X_val_lexicon])\n",
    "\n",
    "smote = SMOTE(sampling_strategy=\"auto\", k_neighbors=2, random_state=42)\n",
    "X_train_resampled, train_labels_resampled = smote.fit_resample(X_train_combined, train_labels)\n",
    "\n",
    "cv_strategy = StratifiedKFold(n_splits=5, shuffle=True, random_state=42)\n",
    "\n",
    "svm_param_grid = {\n",
    "    \"C\": [0.01,0.05,0.1],\n",
    "    \"kernel\": [\"linear\", \"rbf\"],  \n",
    "    \"gamma\": [\"scale\", \"auto\", 0.01, 0.1], \n",
    "    \"class_weight\": [\"balanced\"],  \n",
    "}\n",
    "\n",
    "svm_grid = GridSearchCV(\n",
    "    SVC(probability=True, random_state=42),\n",
    "    svm_param_grid,\n",
    "    cv=cv_strategy,\n",
    "    scoring=\"accuracy\",\n",
    "    n_jobs=-1,\n",
    "    verbose=2\n",
    ")\n",
    "\n",
    "svm_grid.fit(X_train_resampled, train_labels_resampled)\n",
    "\n",
    "joblib.dump(svm_grid.best_estimator_, \"best_svm_hybrid.pkl\")\n",
    "joblib.dump(vectorizer, \"tfidf_vectorizer_hybrid.pkl\")\n",
    "\n",
    "print(\"Best SVM Parameters:\", svm_grid.best_params_)\n"
   ]
  },
  {
   "cell_type": "code",
   "execution_count": 18,
   "metadata": {},
   "outputs": [
    {
     "name": "stdout",
     "output_type": "stream",
     "text": [
      "Training Loss: 0.6607\n",
      "Validation Loss: 0.7258\n",
      "Accuracy: 0.6730\n",
      "Precision: 0.6962\n",
      "Recall: 0.6730\n",
      "F1 Score: 0.6821\n"
     ]
    }
   ],
   "source": [
    "from sklearn.metrics import accuracy_score, precision_recall_fscore_support, log_loss\n",
    "import numpy as np\n",
    "import joblib\n",
    "from scipy.sparse import hstack\n",
    "from nltk.sentiment.vader import SentimentIntensityAnalyzer\n",
    "\n",
    "analyzer = SentimentIntensityAnalyzer()\n",
    "\n",
    "def extract_lexicon_features(text_series):\n",
    "    \"\"\"Extracts sentiment lexicon features from text using VADER.\"\"\"\n",
    "    features = []\n",
    "    for text in text_series:\n",
    "        scores = analyzer.polarity_scores(str(text)) \n",
    "        features.append([scores[\"neg\"], scores[\"neu\"], scores[\"pos\"], scores[\"compound\"]])\n",
    "    return np.array(features)\n",
    "\n",
    "svm_model = joblib.load(\"best_svm_hybrid.pkl\")\n",
    "vectorizer = joblib.load(\"tfidf_vectorizer_hybrid.pkl\")\n",
    "\n",
    "X_train_tfidf = vectorizer.transform(train_texts)\n",
    "X_val_tfidf = vectorizer.transform(val_texts)\n",
    "\n",
    "X_train_lexicon = extract_lexicon_features(train_texts)\n",
    "X_val_lexicon = extract_lexicon_features(val_texts)\n",
    "\n",
    "X_train_combined = hstack([X_train_tfidf, X_train_lexicon])\n",
    "X_val_combined = hstack([X_val_tfidf, X_val_lexicon])\n",
    "\n",
    "train_probs = svm_model.predict_proba(X_train_combined)\n",
    "val_probs = svm_model.predict_proba(X_val_combined)\n",
    "\n",
    "train_preds = np.argmax(train_probs, axis=1)\n",
    "val_preds = np.argmax(val_probs, axis=1)\n",
    "\n",
    "train_loss = log_loss(train_labels, train_probs)\n",
    "val_loss = log_loss(val_labels, val_probs)\n",
    "\n",
    "train_accuracy = accuracy_score(train_labels, train_preds)\n",
    "val_accuracy = accuracy_score(val_labels, val_preds)\n",
    "\n",
    "train_precision, train_recall, train_f1, _ = precision_recall_fscore_support(\n",
    "    train_labels, train_preds, average=\"weighted\"\n",
    ")\n",
    "val_precision, val_recall, val_f1, _ = precision_recall_fscore_support(\n",
    "    val_labels, val_preds, average=\"weighted\"\n",
    ")\n",
    "\n",
    "print(f\"Training Loss: {train_loss:.4f}\")\n",
    "print(f\"Validation Loss: {val_loss:.4f}\")\n",
    "print(f\"Accuracy: {val_accuracy:.4f}\")\n",
    "print(f\"Precision: {val_precision:.4f}\")\n",
    "print(f\"Recall: {val_recall:.4f}\")\n",
    "print(f\"F1 Score: {val_f1:.4f}\")"
   ]
  },
  {
   "cell_type": "code",
   "execution_count": 19,
   "metadata": {},
   "outputs": [
    {
     "data": {
      "image/png": "[encoded data removed]",
      "text/plain": [
       "<Figure size 800x600 with 2 Axes>"
      ]
     },
     "metadata": {},
     "output_type": "display_data"
    }
   ],
   "source": [
    "from sklearn.metrics import confusion_matrix\n",
    "import matplotlib.pyplot as plt\n",
    "import seaborn as sns\n",
    "\n",
    "cm = confusion_matrix(val_labels, val_preds)\n",
    "\n",
    "plt.figure(figsize=(8, 6))\n",
    "sns.heatmap(cm, annot=True, fmt=\"d\", cmap=\"Blues\", \n",
    "            xticklabels=[0, 1, 2], yticklabels=[0, 1, 2])\n",
    "plt.xlabel(\"Predicted Labels\")\n",
    "plt.ylabel(\"True Labels\")\n",
    "plt.title(\"Confusion Matrix (Validation Set)\")\n",
    "plt.show()"
   ]
  },
  {
   "cell_type": "code",
   "execution_count": 20,
   "metadata": {},
   "outputs": [
    {
     "name": "stdout",
     "output_type": "stream",
     "text": [
      "Predicted Rating: Negative\n"
     ]
    }
   ],
   "source": [
    "import joblib\n",
    "import numpy as np\n",
    "from scipy.sparse import hstack\n",
    "from nltk.sentiment import SentimentIntensityAnalyzer\n",
    "from preprocessing import Preprocessing\n",
    "import nest_asyncio\n",
    "\n",
    "nest_asyncio.apply()\n",
    "\n",
    "svm_model = joblib.load(\"best_svm_hybrid.pkl\")\n",
    "vectorizer = joblib.load(\"tfidf_vectorizer_hybrid.pkl\")\n",
    "\n",
    "analyzer = SentimentIntensityAnalyzer()\n",
    "\n",
    "preprocessing_instance = Preprocessing()\n",
    "\n",
    "def extract_lexicon_features(text):\n",
    "    \"\"\"Extracts sentiment lexicon features from text using VADER.\"\"\"\n",
    "    scores = analyzer.polarity_scores(text)\n",
    "    return np.array([[scores[\"neg\"], scores[\"neu\"], scores[\"pos\"], scores[\"compound\"]]])\n",
    "\n",
    "async def predict_rating(input_text):\n",
    "    cleaned_text = await preprocessing_instance.preprocessing_pipeline(input_text)\n",
    "\n",
    "    input_tfidf = vectorizer.transform([cleaned_text])\n",
    "    input_lexicon = extract_lexicon_features(cleaned_text)\n",
    "    input_combined = hstack([input_tfidf, input_lexicon])\n",
    "    final_pred = svm_model.predict(input_combined)\n",
    "\n",
    "    rating_map = {0: \"Negative\", 1: \"Neutral\", 2: \"Positive\"}\n",
    "    return rating_map[final_pred[0]]\n",
    "\n",
    "user_text = input(\"Enter a review: \")\n",
    "\n",
    "predicted_rating = await predict_rating(user_text)\n",
    "\n",
    "print(f\"Predicted Rating: {predicted_rating}\")\n"
   ]
  },
  {
   "cell_type": "code",
   "execution_count": null,
   "metadata": {},
   "outputs": [],
   "source": []
  }
 ],
 "metadata": {
  "kernelspec": {
   "display_name": "Python 3",
   "language": "python",
   "name": "python3"
  },
  "language_info": {
   "codemirror_mode": {
    "name": "ipython",
    "version": 3
   },
   "file_extension": ".py",
   "mimetype": "text/x-python",
   "name": "python",
   "nbconvert_exporter": "python",
   "pygments_lexer": "ipython3",
   "version": "3.12.8"
  }
 },
 "nbformat": 4,
 "nbformat_minor": 2
}
