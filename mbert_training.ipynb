{
 "cells": [
  {
   "cell_type": "code",
   "execution_count": 4,
   "metadata": {},
   "outputs": [],
   "source": [
    "import pandas as pd\n",
    "import json\n",
    "\n",
    "with open(\"data/data.json\",\"r\") as file:\n",
    "    df = pd.DataFrame(json.load(file))\n",
    "\n",
    "def funtion(x):\n",
    "    if x >= 4:\n",
    "        return 2\n",
    "    elif x == 3:\n",
    "        return 1\n",
    "    else:\n",
    "        return 0\n",
    "\n",
    "df['rating_star'] = df['rating_star'].apply(funtion)\n",
    "\n",
    "df.to_csv(\"data/data.csv\",index=False)"
   ]
  },
  {
   "cell_type": "code",
   "execution_count": 8,
   "metadata": {},
   "outputs": [
    {
     "name": "stderr",
     "output_type": "stream",
     "text": [
      "c:\\Users\\USER\\AppData\\Local\\Programs\\Python\\Python312\\Lib\\site-packages\\transformers\\optimization.py:640: FutureWarning: This implementation of AdamW is deprecated and will be removed in a future version. Use the PyTorch implementation torch.optim.AdamW instead, or set `no_deprecation_warning=True` to disable this warning\n",
      "  warnings.warn(\n"
     ]
    },
    {
     "name": "stdout",
     "output_type": "stream",
     "text": [
      "Epoch [1/8], Train Loss: 0.9942\n",
      "Epoch [2/8], Train Loss: 0.8247\n",
      "Epoch [3/8], Train Loss: 0.7612\n",
      "Epoch [4/8], Train Loss: 0.6890\n",
      "Epoch [5/8], Train Loss: 0.6465\n",
      "Epoch [6/8], Train Loss: 0.6084\n",
      "Epoch [7/8], Train Loss: 0.5726\n",
      "Epoch [8/8], Train Loss: 0.5504\n",
      "Training Done!\n"
     ]
    }
   ],
   "source": [
    "from transformers import get_linear_schedule_with_warmup, AdamW, BertTokenizer\n",
    "from sklearn.utils.class_weight import compute_class_weight\n",
    "import torch.nn as nn\n",
    "import numpy as np\n",
    "import torch\n",
    "import pandas as pd\n",
    "from sklearn.model_selection import train_test_split\n",
    "from sklearn.metrics import f1_score, precision_score, recall_score, confusion_matrix\n",
    "from torch.utils.data import DataLoader,Dataset\n",
    "from model import SemanticClassifier\n",
    "\n",
    "class CustomDataset(Dataset):\n",
    "    def __init__(self, texts, labels, tokenizer, max_length=128, device=\"cuda\"):\n",
    "        self.texts = texts\n",
    "        self.labels = labels\n",
    "        self.tokenizer = tokenizer\n",
    "        self.max_length = max_length\n",
    "        self.device = device\n",
    "\n",
    "    def __len__(self):\n",
    "        return len(self.texts)\n",
    "    \n",
    "    def __getitem__(self, idx):\n",
    "        text = self.texts[idx]\n",
    "        label = self.labels[idx]\n",
    "\n",
    "        encoding = self.tokenizer(\n",
    "            text,\n",
    "            padding='max_length',\n",
    "            truncation=True,\n",
    "            max_length=self.max_length,\n",
    "            return_tensors=\"pt\"\n",
    "        )\n",
    "\n",
    "        return {\n",
    "            'input_ids': encoding['input_ids'].squeeze(0).to(self.device),\n",
    "            'attention_mask': encoding['attention_mask'].squeeze(0).to(self.device),\n",
    "            'labels': torch.tensor(label, dtype=torch.long).to(self.device)\n",
    "        }\n",
    "\n",
    "df = pd.read_csv(\"data/data.csv\")\n",
    "\n",
    "tokenizer = BertTokenizer.from_pretrained(\"bert-base-multilingual-cased\")\n",
    "\n",
    "train_texts, val_texts, train_labels, val_labels = train_test_split(\n",
    "    df[\"comment\"].tolist(), df[\"rating_star\"].tolist(), test_size=0.2, random_state=42\n",
    ")\n",
    "\n",
    "device = torch.device(\"cuda\" if torch.cuda.is_available() else \"cpu\")\n",
    "\n",
    "train_dataset = CustomDataset(train_texts, train_labels, tokenizer, device=device)\n",
    "val_dataset = CustomDataset(val_texts, val_labels, tokenizer, device=device)\n",
    "\n",
    "train_dataloader = DataLoader(train_dataset, batch_size=64, shuffle=True)\n",
    "val_dataloader = DataLoader(val_dataset, batch_size=64, shuffle=False)\n",
    "\n",
    "class_weights = compute_class_weight(class_weight=\"balanced\", classes=np.unique(train_labels), y=train_labels)\n",
    "class_weights = torch.tensor(class_weights, dtype=torch.float).to(device)\n",
    "\n",
    "model = SemanticClassifier()\n",
    "model.to(device)\n",
    "\n",
    "optimizer = AdamW(model.parameters(), lr=2e-5)\n",
    "loss_fn = nn.CrossEntropyLoss(weight=class_weights)\n",
    "\n",
    "num_epochs = 8\n",
    "total_steps = len(train_dataloader) * num_epochs\n",
    "scheduler = get_linear_schedule_with_warmup(optimizer, num_warmup_steps=0, num_training_steps=total_steps)\n",
    "\n",
    "for epoch in range(num_epochs):\n",
    "    model.train()\n",
    "    epoch_loss = 0.0\n",
    "\n",
    "    for batch in train_dataloader:\n",
    "        batch_ids, batch_mask, batch_y = batch[\"input_ids\"], batch[\"attention_mask\"], batch[\"labels\"]\n",
    "        batch_ids, batch_mask, batch_y = batch_ids.to(device), batch_mask.to(device), batch_y.to(device)\n",
    "\n",
    "        outputs = model(batch_ids, attention_mask=batch_mask)  \n",
    "        loss = loss_fn(outputs, batch_y)\n",
    "\n",
    "        optimizer.zero_grad()\n",
    "        loss.backward()\n",
    "        optimizer.step()\n",
    "        scheduler.step()\n",
    "\n",
    "        epoch_loss += loss.item()\n",
    "\n",
    "    avg_loss = epoch_loss / len(train_dataloader)\n",
    "    print(f\"Epoch [{epoch+1}/{num_epochs}], Train Loss: {avg_loss:.4f}\")\n",
    "\n",
    "print(f\"Training Done!\")"
   ]
  },
  {
   "cell_type": "code",
   "execution_count": 9,
   "metadata": {},
   "outputs": [
    {
     "name": "stdout",
     "output_type": "stream",
     "text": [
      "Final Train Loss: 0.5504\n",
      "Final Val Loss: 0.7281\n",
      "Final Accuracy: 0.7315\n",
      "Final F1 Score: 0.7429\n",
      "Final Precision: 0.7644\n",
      "Final Recall: 0.7315\n",
      "\n",
      "Confusion Matrix:\n",
      "[[463 135  29]\n",
      " [ 88 239  52]\n",
      " [ 34 153 636]]\n"
     ]
    }
   ],
   "source": [
    "model.eval()\n",
    "val_loss = 0.0\n",
    "correct = 0\n",
    "total = 0\n",
    "all_preds = []\n",
    "all_labels = []\n",
    "\n",
    "with torch.no_grad():\n",
    "    for batch in val_dataloader:\n",
    "        batch_ids, batch_mask, batch_y = batch[\"input_ids\"], batch[\"attention_mask\"], batch[\"labels\"]\n",
    "\n",
    "        outputs = model(batch_ids, attention_mask=batch_mask)\n",
    "        loss = loss_fn(outputs, batch_y)\n",
    "        val_loss += loss.item()\n",
    "\n",
    "        preds = torch.argmax(outputs, dim=1)\n",
    "        correct += (preds == batch_y).sum().item()\n",
    "        total += batch_y.size(0)\n",
    "\n",
    "        all_preds.extend(preds.cpu().numpy())\n",
    "        all_labels.extend(batch_y.cpu().numpy())\n",
    "\n",
    "    avg_val_loss = val_loss / len(val_dataloader)\n",
    "    accuracy = correct / total \n",
    "    f1 = f1_score(all_labels, all_preds, average=\"weighted\")\n",
    "    precision = precision_score(all_labels, all_preds, average=\"weighted\")\n",
    "    recall = recall_score(all_labels, all_preds, average=\"weighted\")\n",
    "    conf_matrix = confusion_matrix(all_labels, all_preds)\n",
    "\n",
    "    print(f\"Final Train Loss: {avg_loss:.4f}\")\n",
    "    print(f\"Final Val Loss: {avg_val_loss:.4f}\")\n",
    "    print(f\"Final Accuracy: {accuracy:.4f}\")\n",
    "    print(f\"Final F1 Score: {f1:.4f}\")\n",
    "    print(f\"Final Precision: {precision:.4f}\")\n",
    "    print(f\"Final Recall: {recall:.4f}\")\n",
    "    print(\"\\nConfusion Matrix:\")\n",
    "    print(conf_matrix)"
   ]
  },
  {
   "cell_type": "code",
   "execution_count": 10,
   "metadata": {},
   "outputs": [
    {
     "data": {
      "image/png": "[encoded data removed]",
      "text/plain": [
       "<Figure size 600x500 with 2 Axes>"
      ]
     },
     "metadata": {},
     "output_type": "display_data"
    }
   ],
   "source": [
    "import matplotlib.pyplot as plt\n",
    "import seaborn as sns\n",
    "\n",
    "class_labels = [\"0 [Negative]\", \"1 [Neutral]\", \"2 [Positive]\"]\n",
    "\n",
    "plt.figure(figsize=(6, 5))\n",
    "sns.heatmap(conf_matrix, annot=True, fmt=\"d\", cmap=\"Blues\", xticklabels=class_labels, yticklabels=class_labels)\n",
    "\n",
    "plt.xlabel(\"Predicted Label\")\n",
    "plt.ylabel(\"True Label\")\n",
    "plt.title(\"Confusion Matrix\")\n",
    "plt.show()"
   ]
  },
  {
   "cell_type": "code",
   "execution_count": 11,
   "metadata": {},
   "outputs": [],
   "source": [
    "torch.save(model, \"data/semantic_classifier.pth\")"
   ]
  }
 ],
 "metadata": {
  "kernelspec": {
   "display_name": "Python 3",
   "language": "python",
   "name": "python3"
  },
  "language_info": {
   "codemirror_mode": {
    "name": "ipython",
    "version": 3
   },
   "file_extension": ".py",
   "mimetype": "text/x-python",
   "name": "python",
   "nbconvert_exporter": "python",
   "pygments_lexer": "ipython3",
   "version": "3.12.8"
  }
 },
 "nbformat": 4,
 "nbformat_minor": 2
}
