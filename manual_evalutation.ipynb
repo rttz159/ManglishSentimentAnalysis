{
 "cells": [
  {
   "cell_type": "code",
   "execution_count": 41,
   "id": "e9a9628e",
   "metadata": {},
   "outputs": [
    {
     "data": {
      "text/plain": [
       "Index(['text', 'Sentiment_Text'], dtype='object')"
      ]
     },
     "execution_count": 41,
     "metadata": {},
     "output_type": "execute_result"
    }
   ],
   "source": [
    "import pandas as pd\n",
    "\n",
    "testing_df = pd.read_csv('data/testing/testing_dataset.csv')\n",
    "testing_df.columns"
   ]
  },
  {
   "cell_type": "code",
   "execution_count": 42,
   "id": "2c0ea00b",
   "metadata": {},
   "outputs": [
    {
     "data": {
      "text/html": [
       "<div>\n",
       "<style scoped>\n",
       "    .dataframe tbody tr th:only-of-type {\n",
       "        vertical-align: middle;\n",
       "    }\n",
       "\n",
       "    .dataframe tbody tr th {\n",
       "        vertical-align: top;\n",
       "    }\n",
       "\n",
       "    .dataframe thead th {\n",
       "        text-align: right;\n",
       "    }\n",
       "</style>\n",
       "<table border=\"1\" class=\"dataframe\">\n",
       "  <thead>\n",
       "    <tr style=\"text-align: right;\">\n",
       "      <th></th>\n",
       "      <th>text</th>\n",
       "      <th>Sentiment_Text</th>\n",
       "      <th>Predicted_Sentiment_Text</th>\n",
       "    </tr>\n",
       "  </thead>\n",
       "  <tbody>\n",
       "    <tr>\n",
       "      <th>0</th>\n",
       "      <td>Walao, this shop damn expensive lah!</td>\n",
       "      <td>0</td>\n",
       "      <td>Negative</td>\n",
       "    </tr>\n",
       "    <tr>\n",
       "      <th>1</th>\n",
       "      <td>Bro, jom go makan nasi lemak at that place!</td>\n",
       "      <td>1</td>\n",
       "      <td>Positive</td>\n",
       "    </tr>\n",
       "    <tr>\n",
       "      <th>2</th>\n",
       "      <td>Aiyo, why you so blur one?</td>\n",
       "      <td>0</td>\n",
       "      <td>Negative</td>\n",
       "    </tr>\n",
       "    <tr>\n",
       "      <th>3</th>\n",
       "      <td>This movie damn syok, must watch!</td>\n",
       "      <td>2</td>\n",
       "      <td>Neutral</td>\n",
       "    </tr>\n",
       "    <tr>\n",
       "      <th>4</th>\n",
       "      <td>Can borrow me your charger ah?</td>\n",
       "      <td>1</td>\n",
       "      <td>Negative</td>\n",
       "    </tr>\n",
       "    <tr>\n",
       "      <th>...</th>\n",
       "      <td>...</td>\n",
       "      <td>...</td>\n",
       "      <td>...</td>\n",
       "    </tr>\n",
       "    <tr>\n",
       "      <th>64</th>\n",
       "      <td>NaN</td>\n",
       "      <td>1</td>\n",
       "      <td>Neutral</td>\n",
       "    </tr>\n",
       "    <tr>\n",
       "      <th>65</th>\n",
       "      <td>hm sy kecewa sedikit sbb penghantaran agak lam...</td>\n",
       "      <td>0</td>\n",
       "      <td>Negative</td>\n",
       "    </tr>\n",
       "    <tr>\n",
       "      <th>66</th>\n",
       "      <td>Mintak dark blue hantar mild 😅😅😅😅 check la dul...</td>\n",
       "      <td>0</td>\n",
       "      <td>Neutral</td>\n",
       "    </tr>\n",
       "    <tr>\n",
       "      <th>67</th>\n",
       "      <td>Terlalu Banyak foreign yarn yang terlalu besar...</td>\n",
       "      <td>0</td>\n",
       "      <td>Neutral</td>\n",
       "    </tr>\n",
       "    <tr>\n",
       "      <th>68</th>\n",
       "      <td>Dalam gmbr lain sampai lain beli kat tiktok ta...</td>\n",
       "      <td>0</td>\n",
       "      <td>Neutral</td>\n",
       "    </tr>\n",
       "  </tbody>\n",
       "</table>\n",
       "<p>69 rows × 3 columns</p>\n",
       "</div>"
      ],
      "text/plain": [
       "                                                 text  Sentiment_Text  \\\n",
       "0                Walao, this shop damn expensive lah!               0   \n",
       "1         Bro, jom go makan nasi lemak at that place!               1   \n",
       "2                          Aiyo, why you so blur one?               0   \n",
       "3                   This movie damn syok, must watch!               2   \n",
       "4                      Can borrow me your charger ah?               1   \n",
       "..                                                ...             ...   \n",
       "64                                                NaN               1   \n",
       "65  hm sy kecewa sedikit sbb penghantaran agak lam...               0   \n",
       "66  Mintak dark blue hantar mild 😅😅😅😅 check la dul...               0   \n",
       "67  Terlalu Banyak foreign yarn yang terlalu besar...               0   \n",
       "68  Dalam gmbr lain sampai lain beli kat tiktok ta...               0   \n",
       "\n",
       "   Predicted_Sentiment_Text  \n",
       "0                  Negative  \n",
       "1                  Positive  \n",
       "2                  Negative  \n",
       "3                   Neutral  \n",
       "4                  Negative  \n",
       "..                      ...  \n",
       "64                  Neutral  \n",
       "65                 Negative  \n",
       "66                  Neutral  \n",
       "67                  Neutral  \n",
       "68                  Neutral  \n",
       "\n",
       "[69 rows x 3 columns]"
      ]
     },
     "execution_count": 42,
     "metadata": {},
     "output_type": "execute_result"
    }
   ],
   "source": [
    "import asyncio\n",
    "from model_implementation import predict\n",
    "\n",
    "async def analyze_sentiment(text):\n",
    "    return await predict(text)\n",
    "\n",
    "async def process_dataframe(df, text_column, sentiment_col):\n",
    "    tasks = [analyze_sentiment(text) for text in df[text_column]]\n",
    "    sentiments = await asyncio.gather(*tasks)\n",
    "    df[sentiment_col] = sentiments\n",
    "    return df\n",
    "\n",
    "await process_dataframe(testing_df, 'text', 'Predicted_Sentiment_Text')"
   ]
  },
  {
   "cell_type": "code",
   "execution_count": 43,
   "id": "2395dce2",
   "metadata": {},
   "outputs": [],
   "source": [
    "label_dict = {\n",
    "    0:'Negative',\n",
    "    1:'Neutral',\n",
    "    2:'Positive'\n",
    "}\n",
    "\n",
    "testing_df['Sentiment_Text'] = testing_df['Sentiment_Text'].apply(lambda x: label_dict[x])"
   ]
  },
  {
   "cell_type": "code",
   "execution_count": 44,
   "id": "5061cd22",
   "metadata": {},
   "outputs": [
    {
     "data": {
      "text/html": [
       "<div>\n",
       "<style scoped>\n",
       "    .dataframe tbody tr th:only-of-type {\n",
       "        vertical-align: middle;\n",
       "    }\n",
       "\n",
       "    .dataframe tbody tr th {\n",
       "        vertical-align: top;\n",
       "    }\n",
       "\n",
       "    .dataframe thead th {\n",
       "        text-align: right;\n",
       "    }\n",
       "</style>\n",
       "<table border=\"1\" class=\"dataframe\">\n",
       "  <thead>\n",
       "    <tr style=\"text-align: right;\">\n",
       "      <th></th>\n",
       "      <th>text</th>\n",
       "      <th>Sentiment_Text</th>\n",
       "      <th>Predicted_Sentiment_Text</th>\n",
       "    </tr>\n",
       "  </thead>\n",
       "  <tbody>\n",
       "    <tr>\n",
       "      <th>0</th>\n",
       "      <td>Walao, this shop damn expensive lah!</td>\n",
       "      <td>Negative</td>\n",
       "      <td>Negative</td>\n",
       "    </tr>\n",
       "    <tr>\n",
       "      <th>1</th>\n",
       "      <td>Bro, jom go makan nasi lemak at that place!</td>\n",
       "      <td>Neutral</td>\n",
       "      <td>Positive</td>\n",
       "    </tr>\n",
       "    <tr>\n",
       "      <th>2</th>\n",
       "      <td>Aiyo, why you so blur one?</td>\n",
       "      <td>Negative</td>\n",
       "      <td>Negative</td>\n",
       "    </tr>\n",
       "    <tr>\n",
       "      <th>3</th>\n",
       "      <td>This movie damn syok, must watch!</td>\n",
       "      <td>Positive</td>\n",
       "      <td>Neutral</td>\n",
       "    </tr>\n",
       "    <tr>\n",
       "      <th>4</th>\n",
       "      <td>Can borrow me your charger ah?</td>\n",
       "      <td>Neutral</td>\n",
       "      <td>Negative</td>\n",
       "    </tr>\n",
       "  </tbody>\n",
       "</table>\n",
       "</div>"
      ],
      "text/plain": [
       "                                          text Sentiment_Text  \\\n",
       "0         Walao, this shop damn expensive lah!       Negative   \n",
       "1  Bro, jom go makan nasi lemak at that place!        Neutral   \n",
       "2                   Aiyo, why you so blur one?       Negative   \n",
       "3            This movie damn syok, must watch!       Positive   \n",
       "4               Can borrow me your charger ah?        Neutral   \n",
       "\n",
       "  Predicted_Sentiment_Text  \n",
       "0                 Negative  \n",
       "1                 Positive  \n",
       "2                 Negative  \n",
       "3                  Neutral  \n",
       "4                 Negative  "
      ]
     },
     "execution_count": 44,
     "metadata": {},
     "output_type": "execute_result"
    }
   ],
   "source": [
    "testing_df.head()"
   ]
  },
  {
   "cell_type": "code",
   "execution_count": 45,
   "id": "e637de57",
   "metadata": {},
   "outputs": [
    {
     "name": "stdout",
     "output_type": "stream",
     "text": [
      "Confusion Matrix:\n",
      " [[12 12  0]\n",
      " [ 3 13  1]\n",
      " [ 6  8 14]]\n",
      "\n",
      "Classification Report:\n",
      "               precision    recall  f1-score   support\n",
      "\n",
      "    Negative       0.57      0.50      0.53        24\n",
      "     Neutral       0.39      0.76      0.52        17\n",
      "    Positive       0.93      0.50      0.65        28\n",
      "\n",
      "    accuracy                           0.57        69\n",
      "   macro avg       0.63      0.59      0.57        69\n",
      "weighted avg       0.67      0.57      0.58        69\n",
      "\n"
     ]
    }
   ],
   "source": [
    "from sklearn.metrics import confusion_matrix, classification_report\n",
    "\n",
    "y_true = testing_df['Sentiment_Text']\n",
    "y_pred = testing_df['Predicted_Sentiment_Text']\n",
    "\n",
    "cm = confusion_matrix(y_true, y_pred)\n",
    "print(\"Confusion Matrix:\\n\", cm)\n",
    "\n",
    "print(\"\\nClassification Report:\\n\", classification_report(y_true, y_pred))\n"
   ]
  },
  {
   "cell_type": "code",
   "execution_count": 46,
   "id": "42e267f3",
   "metadata": {},
   "outputs": [
    {
     "data": {
      "image/png": "[encoded data removed]",
      "text/plain": [
       "<Figure size 640x480 with 2 Axes>"
      ]
     },
     "metadata": {},
     "output_type": "display_data"
    }
   ],
   "source": [
    "import seaborn as sns\n",
    "import matplotlib.pyplot as plt\n",
    "import pandas as pd\n",
    "\n",
    "%matplotlib inline\n",
    "\n",
    "labels = sorted(testing_df['Sentiment_Text'].unique()) \n",
    "\n",
    "sns.heatmap(pd.DataFrame(cm, index=labels, columns=labels), \n",
    "            annot=True, fmt='d', cmap='Blues')\n",
    "plt.ylabel('Actual')\n",
    "plt.xlabel('Predicted')\n",
    "plt.title('Confusion Matrix')\n",
    "plt.show()"
   ]
  }
 ],
 "metadata": {
  "kernelspec": {
   "display_name": "Python 3",
   "language": "python",
   "name": "python3"
  },
  "language_info": {
   "codemirror_mode": {
    "name": "ipython",
    "version": 3
   },
   "file_extension": ".py",
   "mimetype": "text/x-python",
   "name": "python",
   "nbconvert_exporter": "python",
   "pygments_lexer": "ipython3",
   "version": "3.12.8"
  }
 },
 "nbformat": 4,
 "nbformat_minor": 5
}
