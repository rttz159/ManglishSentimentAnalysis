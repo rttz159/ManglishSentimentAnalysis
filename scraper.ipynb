{
 "cells": [
  {
   "cell_type": "code",
   "execution_count": null,
   "metadata": {},
   "outputs": [],
   "source": [
    "import json\n",
    "import time\n",
    "\n",
    "with open(\"data.json\",\"a\") as file:\n",
    "    file.write(\"[\")\n",
    "    import requests\n",
    "\n",
    "    url = \"https://shopee.com.my/api/v2/item/get_ratings\"\n",
    "\n",
    "    headers = {\n",
    "        \"User-Agent\": \"Mozilla/5.0 (Windows NT 10.0; Win64; x64) AppleWebKit/537.36 (KHTML, like Gecko) Chrome/91.0.4472.124 Safari/537.36\",\n",
    "        \"Referer\": \"https://shopee.com.my/product/530429709/25014222045\", \n",
    "        \"X-Requested-With\": \"XMLHttpRequest\",\n",
    "        \"Accept\": \"application/json\",\n",
    "        \"Accept-Language\": \"en-US,en;q=0.9\",\n",
    "        \"Cookie\": \"_gcl_au=1.1.35515054.1739783786; _med=cpc; _QPWSDCXHZQA=71924e98-73e3-49cc-b70a-a9c3875cfcb4; REC7iLP4Q=5a45932b-1e3f-4302-93ee-bd53bb5cb4a4; _fbp=fb.2.1739783788641.302677056309483400; SPC_F=fqk1o6HYjcUFzdLG77IaaOwA2SsdWjRr; REC_T_ID=df546cc6-ed0f-11ef-a6f4-1efab2b386de; language=en; SPC_CLIENTID=ZnFrMW82SFlqY1VGenyruxrotmywjnad; SPC_EC=.YlRPR2hwdG9rSTNJcXRaWpq1VhFB/H2JEPvT+KmL+8Vx6VYbdI2T/Nzk4/3cxNPNYXm4symyBQSgqsBYqicSDiDUjINjw02J0m4wpkRXede8rNFzlJs6SNAOtihayNHImYow1+drqwOleK1jkvMsWjqNkMGK7+1AX96jNXW/uyoBh5Ghjl3DPzasmuGpCQd5XitGPvrbw9LlFM8s/9xzTGSN6fNUKPic0MTtMAKPTH6VQIG6Hd+Ew+drGZHdR6P6; SPC_ST=.YlRPR2hwdG9rSTNJcXRaWpq1VhFB/H2JEPvT+KmL+8Vx6VYbdI2T/Nzk4/3cxNPNYXm4symyBQSgqsBYqicSDiDUjINjw02J0m4wpkRXede8rNFzlJs6SNAOtihayNHImYow1+drqwOleK1jkvMsWjqNkMGK7+1AX96jNXW/uyoBh5Ghjl3DPzasmuGpCQd5XitGPvrbw9LlFM8s/9xzTGSN6fNUKPic0MTtMAKPTH6VQIG6Hd+Ew+drGZHdR6P6; _gcl_gs=2.1.k1$i1739783929$u80980181; SPC_U=73491875; SPC_R_T_IV=SVN0MDBES3RWRXYyRHpDMA==; SPC_T_ID=wcqaN+5Sxc5tGAtuNLS1jfqa+i+uJehcLSX12xwjNZdk51iy5B+AFtN7ra8U7GSaLAiL87FLlbr0AaLNxlXI3NQGkHXyC8WdlimK5xeZIrWO5EQMzNyBT9+kPNj8D5KQimugeoyOBR0+h8E4mzBA9fWlY0rh0YCAs22hRmzXHpc=; SPC_T_IV=SVN0MDBES3RWRXYyRHpDMA==; SPC_R_T_ID=wcqaN+5Sxc5tGAtuNLS1jfqa+i+uJehcLSX12xwjNZdk51iy5B+AFtN7ra8U7GSaLAiL87FLlbr0AaLNxlXI3NQGkHXyC8WdlimK5xeZIrWO5EQMzNyBT9+kPNj8D5KQimugeoyOBR0+h8E4mzBA9fWlY0rh0YCAs22hRmzXHpc=; _gcl_aw=GCL.1739783933.CjwKCAiA2cu9BhBhEiwAft6IxMKeDMhuMgJr9GjYzHpjFK2rsB7wL7Z605uHUIAKMesdKU83hZzknBoCePkQAvD_BwE; _gac_UA-61915055-6=1.1739783933.CjwKCAiA2cu9BhBhEiwAft6IxMKeDMhuMgJr9GjYzHpjFK2rsB7wL7Z605uHUIAKMesdKU83hZzknBoCePkQAvD_BwE; __LOCALE__null=MY; csrftoken=0rC4Kuu4w6DIXauvmHeelx371ysDW1hZ; SPC_SEC_SI=v1-ak9JYW93UE5ZVmJpUk1nOViqnYI1aLOhFz/9QNfO1xv9LTf3VBTnDwWKmbJU+TM6qYXsrND2ZRYsqlmedKj6Bk71Kup++sqPFhvt5RoSWwU=; SPC_SI=DhGsZwAAAABKOGEzSWhsS0tngAAAAAAAYW9Gdkc0U3U=; _sapid=d30fd890b8f16af7d65214923cc36b7f941c943e725b7a1c71cb5a39; SPC_IA=1; AMP_TOKEN=%24NOT_FOUND; _gid=GA1.3.696397198.1739882999; SPC_CDS_CHAT=c776b1ab-5ed2-4d7f-aed3-9b92f6521409; AC_CERT_D=U2FsdGVkX1/I99PYBRCVGcVZ2DF45HL6slkpIQzj1BDy3eSrupcHSUlrH4KHclRpLoUDX708P4v5de9fTR8jpEluGwJIn7ataHrde17rIZ8J6+ZjWhKQWLhOIJySSqJhQRY6a/8nuHBw7L08DCf0vknaQ+fGDSxw+mL1TXnzO6OABiWVbuXnxelrqTOB8QM9Kf8OlZRUfah1T735gaMQb/tC8yYkmgfqh8u4gL6xYUIea2BU0FOazkgv4Ta3tR3+GcJ84/7cesNjurTnkfbx7BV37nHdla2sRuAWKUQSD7FWzQry2N3AfrdRMC30jHAShLKHdqA2MGWy9aDvNaiNkbozmDtnAzFipxggGpuhLGmi/BP5y35SUnqA2kgt1TcrYbghaFoPaEtuIc6xeG0hs+fsim1DMC5bi2dJmz4CkU9ikddM47bMMSkJnWclxgiLrGIi1wKNaD+dZv2PFfTVH3w8IEAXJ043iSRJAgN7THPhtc8Q4NXn/CxqK+ZKXq/yIRehy2tkInSo5LqwaI2I4Sg7sOdeylxgisaORRcTkz2DHQPLhYmNVy3EhdkCH4LP0g2vnXolDZR+3S8iYSB2ZBpicGVSch+Zlxzcy2ESiuTvbyax85ugjwUBNxphcQDChS6OkS8oHz/UEfbIbumcqR/hFxODVZLfZKBd7r/5Yu8/83beraN6zX9f+PirBHIJwzvGgA7fZKpE7q86O9VsmGpX9e8luxn8a9y0HUVVgE+GZ7FREMs3+cdh2lSqPKS6Gu+6tTz2bGxLZqfaf0Wa3opVVhViUNWbSWcsGo5K1oVuZfDo/tMohCe/m3motTKvSDwgG3nRulB0Qya8yrawsoaSpiMoInYgSY3fQ+/z85q+fZpxm5Dx/1nX0ZSEHmgTypH4J5w8HWy+zhY45IWOEMQbtSa75jqmhw+9zr9jGkcRNMUU4sbwR6cpr+xX2uM6tqCOaaIK1y/OH2L/O5+LlBVWz44Ht4qXR8axPuqa0w/fgCK3bp1GUZNeHoSpSklMhMUC/yoymMgMvJKtqTk01JE/v/28J+stTsDQ85E9bIC9S9C8mTvd5nVyaaWLUw1Eaaubs0DElYqAteGijq7QPw==; shopee_webUnique_ccd=Ak5OxGw4THj1kW5rzJFqrA%3D%3D%7C56xn17Y46CxuiYF5ExR%2F1vgrSocKwWNluPuc6sfruKid59aS3CrisESwbBzIu%2FrRYSgr3E%2BpYcX%2BfyUDZbc%3D%7CQNA2ypy5udBEb6SW%7C08%7C3; ds=d82466129f22a45f72e60588979b90c6; _ga_NEYMG30JL4=GS1.1.1739886003.3.1.1739886146.43.0.0; _ga=GA1.3.837419703.1739783802; _dc_gtm_UA-61915055-6=1\" \n",
    "    }\n",
    "\n",
    "    z = 0\n",
    "\n",
    "    for y in range(15):\n",
    "        params = {\n",
    "            \"exclude_filter\": 1,\n",
    "            \"fe_toggle\": \"\",\n",
    "            \"filter\": 0,\n",
    "            \"filter_size\": 0,\n",
    "            \"flag\": 1,\n",
    "            \"fold_filter\": 0,\n",
    "            \"itemid\": 19060548751,\n",
    "            \"limit\": 50,\n",
    "            \"offset\": z,\n",
    "            \"relevant_reviews\": False,\n",
    "            \"request_source\": 2,\n",
    "            \"shopid\": 372570586,\n",
    "            \"tag_filter\": \"\",\n",
    "            \"type\": 3,\n",
    "            \"variation_filters\": \"\"\n",
    "        }\n",
    "\n",
    "        response = requests.get(url, params=params, headers=headers)\n",
    "\n",
    "        if response.status_code == 200:\n",
    "            data = response.json()\n",
    "            print(y)\n",
    "        else:\n",
    "            print(f\"Failed to fetch data. Status code: {response.status_code}\")\n",
    "        for x in data['data']['ratings']:\n",
    "            file.write(f\"{json.dumps({'comment':x['comment'],'rating_star':x['rating_star']})},\")\n",
    "        z += 50\n",
    "        time.sleep(2)\n",
    "\n",
    "\n",
    "    file.write(\"]\")"
   ]
  },
  {
   "cell_type": "code",
   "execution_count": 29,
   "metadata": {},
   "outputs": [],
   "source": [
    "import json\n",
    "\n",
    "input_file = open ('data.json')\n",
    "json_array = json.load(input_file)\n",
    "\n",
    "new_json_array = []\n",
    "\n",
    "for x in json_array:\n",
    "    if x[\"comment\"] != \"\":\n",
    "        new_json_array.append(x)\n",
    "\n",
    "with open(\"data.json\",\"w\") as file:\n",
    "    file.write(json.dumps(new_json_array))"
   ]
  }
 ],
 "metadata": {
  "kernelspec": {
   "display_name": "assignment",
   "language": "python",
   "name": "python3"
  },
  "language_info": {
   "codemirror_mode": {
    "name": "ipython",
    "version": 3
   },
   "file_extension": ".py",
   "mimetype": "text/x-python",
   "name": "python",
   "nbconvert_exporter": "python",
   "pygments_lexer": "ipython3",
   "version": "3.12.8"
  }
 },
 "nbformat": 4,
 "nbformat_minor": 2
}
