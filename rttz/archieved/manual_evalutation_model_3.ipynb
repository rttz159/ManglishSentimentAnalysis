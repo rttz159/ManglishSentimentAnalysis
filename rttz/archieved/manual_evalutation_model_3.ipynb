{
 "cells": [
  {
   "cell_type": "code",
   "execution_count": 1,
   "id": "e9a9628e",
   "metadata": {},
   "outputs": [
    {
     "data": {
      "text/plain": [
       "Index(['text', 'Sentiment_Text'], dtype='object')"
      ]
     },
     "execution_count": 1,
     "metadata": {},
     "output_type": "execute_result"
    }
   ],
   "source": [
    "import pandas as pd\n",
    "\n",
    "testing_df = pd.read_csv('data/testing/testing_dataset.csv')\n",
    "testing_df.columns"
   ]
  },
  {
   "cell_type": "code",
   "execution_count": 2,
   "id": "2c0ea00b",
   "metadata": {},
   "outputs": [
    {
     "name": "stderr",
     "output_type": "stream",
     "text": [
      "c:\\Users\\USER\\AppData\\Local\\Programs\\Python\\Python312\\Lib\\site-packages\\tqdm\\auto.py:21: TqdmWarning: IProgress not found. Please update jupyter and ipywidgets. See https://ipywidgets.readthedocs.io/en/stable/user_install.html\n",
      "  from .autonotebook import tqdm as notebook_tqdm\n",
      "c:\\Users\\USER\\AppData\\Local\\Programs\\Python\\Python312\\Lib\\site-packages\\malaya\\tokenizer.py:214: FutureWarning: Possible nested set at position 3397\n",
      "  self.tok = re.compile(r'({})'.format('|'.join(pipeline)))\n",
      "c:\\Users\\USER\\AppData\\Local\\Programs\\Python\\Python312\\Lib\\site-packages\\malaya\\tokenizer.py:214: FutureWarning: Possible nested set at position 3927\n",
      "  self.tok = re.compile(r'({})'.format('|'.join(pipeline)))\n",
      "c:\\Users\\USER\\Study\\Y2S2\\AI\\ManglishSentimentAnalysis\\preprocessing.py:14: FutureWarning: The demoji.download_codes attribute is deprecated and will be removed from demoji in a future version. It is an unused attribute as emoji codes are now distributed directly with the demoji package.\n",
      "  demoji.download_codes()\n",
      "[nltk_data] Downloading package punkt_tab to\n",
      "[nltk_data]     C:\\Users\\USER\\AppData\\Roaming\\nltk_data...\n",
      "[nltk_data]   Package punkt_tab is already up-to-date!\n"
     ]
    }
   ],
   "source": [
    "import torch\n",
    "from transformers import XLMRobertaTokenizer\n",
    "from preprocessing import Preprocessing\n",
    "from model_3 import SemanticClassifier\n",
    "\n",
    "labels = [\"Negative\", \"Neutral\", \"Positive\"]\n",
    "device = torch.device(\"cuda\" if torch.cuda.is_available() else \"cpu\")\n",
    "preprocessing_instance = Preprocessing()\n",
    "\n",
    "state_dict = torch.load(\n",
    "    \"data/semantic_classifier_3_dict.pth\", map_location=device\n",
    ")\n",
    "model = SemanticClassifier()\n",
    "model.load_state_dict(state_dict)\n",
    "model.to(device)\n",
    "model.eval()\n",
    "\n",
    "tokenizer = XLMRobertaTokenizer.from_pretrained(\"xlm-roberta-base\")\n",
    "\n",
    "\n",
    "def preprocess_text(text, max_length=256, device=\"cuda\"):\n",
    "    processed_text = preprocessing_instance.preprocessing_pipeline_roberta(text)\n",
    "    processed_text = str(processed_text)\n",
    "    encoding = tokenizer(\n",
    "        processed_text,\n",
    "        padding=\"max_length\",\n",
    "        truncation=True,\n",
    "        max_length=max_length,\n",
    "        return_tensors=\"pt\",\n",
    "    )\n",
    "\n",
    "    return {\n",
    "        \"input_ids\": encoding[\"input_ids\"].to(device),\n",
    "        \"attention_mask\": encoding[\"attention_mask\"].to(device),\n",
    "    }\n",
    "\n",
    "\n",
    "def predict(text):\n",
    "    inputs = preprocess_text(text, device=device)\n",
    "\n",
    "    with torch.no_grad():\n",
    "        output = model(inputs[\"input_ids\"], attention_mask=inputs[\"attention_mask\"])\n",
    "\n",
    "    predicted_label = torch.argmax(output, dim=1).cpu().item()\n",
    "    return labels[int(predicted_label)]\n",
    "\n",
    "testing_df[\"Predicted_Sentiment_Text\"] = testing_df[\"text\"].apply(predict)"
   ]
  },
  {
   "cell_type": "code",
   "execution_count": 3,
   "id": "2395dce2",
   "metadata": {},
   "outputs": [],
   "source": [
    "label_dict = {\n",
    "    0:'Negative',\n",
    "    1:'Neutral',\n",
    "    2:'Positive'\n",
    "}\n",
    "\n",
    "testing_df['Sentiment_Text'] = testing_df['Sentiment_Text'].apply(lambda x: label_dict[x])"
   ]
  },
  {
   "cell_type": "code",
   "execution_count": 4,
   "id": "5061cd22",
   "metadata": {},
   "outputs": [
    {
     "data": {
      "text/html": [
       "<div>\n",
       "<style scoped>\n",
       "    .dataframe tbody tr th:only-of-type {\n",
       "        vertical-align: middle;\n",
       "    }\n",
       "\n",
       "    .dataframe tbody tr th {\n",
       "        vertical-align: top;\n",
       "    }\n",
       "\n",
       "    .dataframe thead th {\n",
       "        text-align: right;\n",
       "    }\n",
       "</style>\n",
       "<table border=\"1\" class=\"dataframe\">\n",
       "  <thead>\n",
       "    <tr style=\"text-align: right;\">\n",
       "      <th></th>\n",
       "      <th>text</th>\n",
       "      <th>Sentiment_Text</th>\n",
       "      <th>Predicted_Sentiment_Text</th>\n",
       "    </tr>\n",
       "  </thead>\n",
       "  <tbody>\n",
       "    <tr>\n",
       "      <th>0</th>\n",
       "      <td>Walao, this shop damn expensive lah!</td>\n",
       "      <td>Negative</td>\n",
       "      <td>Neutral</td>\n",
       "    </tr>\n",
       "    <tr>\n",
       "      <th>1</th>\n",
       "      <td>Bro, jom go makan nasi lemak at that place!</td>\n",
       "      <td>Neutral</td>\n",
       "      <td>Neutral</td>\n",
       "    </tr>\n",
       "    <tr>\n",
       "      <th>2</th>\n",
       "      <td>Aiyo, why you so blur one?</td>\n",
       "      <td>Negative</td>\n",
       "      <td>Neutral</td>\n",
       "    </tr>\n",
       "    <tr>\n",
       "      <th>3</th>\n",
       "      <td>This movie damn syok, must watch!</td>\n",
       "      <td>Positive</td>\n",
       "      <td>Negative</td>\n",
       "    </tr>\n",
       "    <tr>\n",
       "      <th>4</th>\n",
       "      <td>Can borrow me your charger ah?</td>\n",
       "      <td>Neutral</td>\n",
       "      <td>Negative</td>\n",
       "    </tr>\n",
       "  </tbody>\n",
       "</table>\n",
       "</div>"
      ],
      "text/plain": [
       "                                          text Sentiment_Text  \\\n",
       "0         Walao, this shop damn expensive lah!       Negative   \n",
       "1  Bro, jom go makan nasi lemak at that place!        Neutral   \n",
       "2                   Aiyo, why you so blur one?       Negative   \n",
       "3            This movie damn syok, must watch!       Positive   \n",
       "4               Can borrow me your charger ah?        Neutral   \n",
       "\n",
       "  Predicted_Sentiment_Text  \n",
       "0                  Neutral  \n",
       "1                  Neutral  \n",
       "2                  Neutral  \n",
       "3                 Negative  \n",
       "4                 Negative  "
      ]
     },
     "execution_count": 4,
     "metadata": {},
     "output_type": "execute_result"
    }
   ],
   "source": [
    "testing_df.head()"
   ]
  },
  {
   "cell_type": "code",
   "execution_count": 5,
   "id": "e637de57",
   "metadata": {},
   "outputs": [
    {
     "name": "stdout",
     "output_type": "stream",
     "text": [
      "Confusion Matrix:\n",
      " [[12 12  0]\n",
      " [ 3 12  2]\n",
      " [ 6  4 18]]\n",
      "\n",
      "Classification Report:\n",
      "               precision    recall  f1-score   support\n",
      "\n",
      "    Negative       0.57      0.50      0.53        24\n",
      "     Neutral       0.43      0.71      0.53        17\n",
      "    Positive       0.90      0.64      0.75        28\n",
      "\n",
      "    accuracy                           0.61        69\n",
      "   macro avg       0.63      0.62      0.61        69\n",
      "weighted avg       0.67      0.61      0.62        69\n",
      "\n"
     ]
    }
   ],
   "source": [
    "from sklearn.metrics import confusion_matrix, classification_report\n",
    "\n",
    "y_true = testing_df['Sentiment_Text']\n",
    "y_pred = testing_df['Predicted_Sentiment_Text']\n",
    "\n",
    "cm = confusion_matrix(y_true, y_pred)\n",
    "print(\"Confusion Matrix:\\n\", cm)\n",
    "\n",
    "print(\"\\nClassification Report:\\n\", classification_report(y_true, y_pred))\n"
   ]
  },
  {
   "cell_type": "code",
   "execution_count": 6,
   "id": "42e267f3",
   "metadata": {},
   "outputs": [
    {
     "data": {
      "image/png": "[encoded data removed]",
      "text/plain": [
       "<Figure size 640x480 with 2 Axes>"
      ]
     },
     "metadata": {},
     "output_type": "display_data"
    }
   ],
   "source": [
    "import seaborn as sns\n",
    "import matplotlib.pyplot as plt\n",
    "import pandas as pd\n",
    "\n",
    "%matplotlib inline\n",
    "\n",
    "labels = sorted(testing_df['Sentiment_Text'].unique()) \n",
    "\n",
    "sns.heatmap(pd.DataFrame(cm, index=labels, columns=labels), \n",
    "            annot=True, fmt='d', cmap='Blues')\n",
    "plt.ylabel('Actual')\n",
    "plt.xlabel('Predicted')\n",
    "plt.title('Confusion Matrix')\n",
    "plt.show()"
   ]
  }
 ],
 "metadata": {
  "kernelspec": {
   "display_name": "Python 3",
   "language": "python",
   "name": "python3"
  },
  "language_info": {
   "codemirror_mode": {
    "name": "ipython",
    "version": 3
   },
   "file_extension": ".py",
   "mimetype": "text/x-python",
   "name": "python",
   "nbconvert_exporter": "python",
   "pygments_lexer": "ipython3",
   "version": "3.12.8"
  }
 },
 "nbformat": 4,
 "nbformat_minor": 5
}
