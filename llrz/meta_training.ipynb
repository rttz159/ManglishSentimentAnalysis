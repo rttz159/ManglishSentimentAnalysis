{
 "cells": [
  {
   "cell_type": "code",
   "execution_count": null,
   "metadata": {},
   "outputs": [],
   "source": [
    "pip install imbalanced-learn"
   ]
  },
  {
   "cell_type": "code",
   "execution_count": 3,
   "metadata": {},
   "outputs": [
    {
     "name": "stdout",
     "output_type": "stream",
     "text": [
      "Requirement already satisfied: nest_asyncio in c:\\users\\xlewi\\appdata\\local\\programs\\python\\python312\\lib\\site-packages (1.6.0)\n",
      "Note: you may need to restart the kernel to use updated packages.\n"
     ]
    }
   ],
   "source": [
    "pip install nest_asyncio"
   ]
  },
  {
   "cell_type": "code",
   "execution_count": 1,
   "metadata": {},
   "outputs": [
    {
     "name": "stdout",
     "output_type": "stream",
     "text": [
      "Number of entries in CSV: 9525\n"
     ]
    }
   ],
   "source": [
    "import pandas as pd\n",
    "data = pd.read_csv(\"data/data.csv\")\n",
    "print(\"Number of entries in CSV:\", len(data))"
   ]
  },
  {
   "cell_type": "code",
   "execution_count": 2,
   "metadata": {},
   "outputs": [
    {
     "name": "stdout",
     "output_type": "stream",
     "text": [
      "rating_star\n",
      "2    4438\n",
      "0    3123\n",
      "1    1964\n",
      "Name: count, dtype: int64\n"
     ]
    }
   ],
   "source": [
    "df = pd.read_csv(\"data/processed_data.csv\")\n",
    "print(df['rating_star'].value_counts())"
   ]
  },
  {
   "cell_type": "code",
   "execution_count": null,
   "metadata": {},
   "outputs": [
    {
     "name": "stdout",
     "output_type": "stream",
     "text": [
      "Fitting 3 folds for each of 32 candidates, totalling 96 fits\n",
      "Best SVM Parameters: {'C': 20, 'class_weight': 'balanced', 'gamma': 'scale', 'kernel': 'rbf'}\n"
     ]
    }
   ],
   "source": [
    "from sklearn.model_selection import GridSearchCV, train_test_split\n",
    "from sklearn.svm import SVC\n",
    "from sklearn.feature_extraction.text import TfidfVectorizer\n",
    "import joblib\n",
    "from imblearn.over_sampling import SMOTE\n",
    "\n",
    "df = pd.read_csv(\"data/processed_data.csv\")\n",
    "\n",
    "train_texts, val_texts, train_labels, val_labels = train_test_split(\n",
    "    df[\"comment\"], df[\"rating_star\"], test_size=0.2, random_state=42, stratify=df[\"rating_star\"]\n",
    ")\n",
    "\n",
    "vectorizer = TfidfVectorizer(max_features=10000, ngram_range=(1, 3), stop_words=\"english\", min_df=2, max_df=0.9)\n",
    "X_train = vectorizer.fit_transform(train_texts)\n",
    "X_val = vectorizer.transform(val_texts)\n",
    "\n",
    "smote = SMOTE(sampling_strategy=\"auto\", k_neighbors=3, random_state=42)\n",
    "X_train_resampled, train_labels_resampled = smote.fit_resample(X_train, train_labels)\n",
    "\n",
    "svm_param_grid = {\n",
    "    \"C\": [0.1, 1, 10, 20],\n",
    "    \"kernel\": [\"linear\", \"rbf\"],  \n",
    "    \"gamma\": [\"scale\", \"auto\", 0.01, 0.1], \n",
    "    \"class_weight\": [\"balanced\"],  \n",
    "}\n",
    "svm_grid = GridSearchCV(SVC(probability=True, random_state=42), svm_param_grid, cv=3, scoring=\"accuracy\", n_jobs=-1, verbose=2)\n",
    "svm_grid.fit(X_train_resampled, train_labels_resampled)\n",
    "\n",
    "joblib.dump(svm_grid.best_estimator_, \"best_svm.pkl\")\n",
    "joblib.dump(vectorizer, \"tfidf_vectorizer.pkl\")\n",
    "\n",
    "print(\"Best SVM Parameters:\", svm_grid.best_params_)"
   ]
  },
  {
   "cell_type": "code",
   "execution_count": null,
   "metadata": {},
   "outputs": [
    {
     "name": "stdout",
     "output_type": "stream",
     "text": [
      "Fitting 3 folds for each of 216 candidates, totalling 648 fits\n",
      "Best Random Forest Parameters: {'class_weight': 'balanced', 'max_depth': 40, 'max_features': 'sqrt', 'min_samples_leaf': 2, 'min_samples_split': 8, 'n_estimators': 300}\n"
     ]
    }
   ],
   "source": [
    "from sklearn.ensemble import RandomForestClassifier\n",
    "\n",
    "vectorizer = joblib.load(\"tfidf_vectorizer.pkl\")\n",
    "\n",
    "rf_param_grid = {\n",
    "    \"n_estimators\": [100, 200, 300], \n",
    "    \"max_depth\": [5, 10, 20, 40],  \n",
    "    \"min_samples_split\": [ 6, 8,10],  \n",
    "    \"min_samples_leaf\": [2, 4, 6], \n",
    "    \"max_features\": [\"sqrt\", \"log2\"],  \n",
    "    \"class_weight\": [\"balanced\"],  \n",
    "}\n",
    "\n",
    "rf_grid = GridSearchCV(RandomForestClassifier(random_state=42), rf_param_grid, cv=3, scoring=\"accuracy\", n_jobs=-1, verbose=2)\n",
    "rf_grid.fit(X_train_resampled, train_labels_resampled)\n",
    "\n",
    "joblib.dump(rf_grid.best_estimator_, \"best_rf.pkl\")\n",
    "print(\"Best Random Forest Parameters:\", rf_grid.best_params_)\n"
   ]
  },
  {
   "cell_type": "code",
   "execution_count": null,
   "metadata": {},
   "outputs": [
    {
     "name": "stdout",
     "output_type": "stream",
     "text": [
      "Fitting 10 folds for each of 180 candidates, totalling 1800 fits\n",
      "\n",
      "Best Logistic Regression Parameters: {'C': 0.005, 'class_weight': 'balanced', 'l1_ratio': 0.1, 'max_iter': 50, 'penalty': 'l2', 'solver': 'saga'}\n"
     ]
    },
    {
     "name": "stderr",
     "output_type": "stream",
     "text": [
      "c:\\Users\\XLewi\\AppData\\Local\\Programs\\Python\\Python312\\Lib\\site-packages\\sklearn\\linear_model\\_logistic.py:1196: UserWarning: l1_ratio parameter is only used when penalty is 'elasticnet'. Got (penalty=l2)\n",
      "  warnings.warn(\n"
     ]
    }
   ],
   "source": [
    "from sklearn.linear_model import LogisticRegression\n",
    "from sklearn.preprocessing import MinMaxScaler\n",
    "import numpy as np\n",
    "\n",
    "vectorizer = joblib.load(\"data/tfidf_vectorizer.pkl\")\n",
    "best_svm = joblib.load(\"data/best_svm.pkl\")\n",
    "best_rf = joblib.load(\"data/best_rf.pkl\")\n",
    "\n",
    "X_val = vectorizer.transform(val_texts)\n",
    "\n",
    "svm_val_preds = best_svm.predict_proba(X_val)\n",
    "rf_val_preds = best_rf.predict_proba(X_val)\n",
    "\n",
    "logistic_features_val = np.hstack((svm_val_preds, rf_val_preds))\n",
    "\n",
    "scaler = MinMaxScaler()\n",
    "logistic_features_val_scaled = scaler.fit_transform(logistic_features_val)\n",
    "\n",
    "logistic_param_grid = [\n",
    "    {\n",
    "        \"C\": [0.005, 0.05, 0.5, 1, 5, 10], \n",
    "        \"solver\": [\"saga\"], \n",
    "        \"max_iter\": [50,100, 200, 300, 500],  \n",
    "        \"penalty\": [\"l1\", \"l2\",], \n",
    "        \"class_weight\": [\"balanced\"], \n",
    "    },\n",
    "]\n",
    "\n",
    "logistic_grid_search = GridSearchCV(\n",
    "    LogisticRegression(class_weight=\"balanced\", random_state=42),\n",
    "    logistic_param_grid,\n",
    "    cv=10,  \n",
    "    scoring=\"accuracy\",\n",
    "    n_jobs=-1,\n",
    "    verbose=2\n",
    ")\n",
    "\n",
    "logistic_grid_search.fit(logistic_features_val_scaled, val_labels)\n",
    "\n",
    "best_logistic_model = logistic_grid_search.best_estimator_\n",
    "\n",
    "joblib.dump(best_logistic_model, \"data/best_logistic_model.pkl\")\n",
    "\n",
    "logistic_val_preds = best_logistic_model.predict(logistic_features_val_scaled)\n",
    "\n",
    "print(\"\\nBest Logistic Regression Parameters:\", logistic_grid_search.best_params_)"
   ]
  },
  {
   "cell_type": "code",
   "execution_count": 194,
   "metadata": {},
   "outputs": [
    {
     "name": "stdout",
     "output_type": "stream",
     "text": [
      "Training Loss: 0.6151\n",
      "Validation Loss: 0.7959\n",
      "Accuracy: 0.7617\n",
      "F1 Score: 0.7541\n",
      "Precision: 0.7530\n",
      "Recall: 0.7617\n",
      "\n",
      "Confusion Matrix:\n",
      "[[497  52  75]\n",
      " [ 94 183 116]\n",
      " [ 61  56 771]]\n"
     ]
    }
   ],
   "source": [
    "from sklearn.metrics import f1_score, precision_score, recall_score, log_loss, confusion_matrix\n",
    "\n",
    "svm_train_preds = best_svm.predict_proba(X_train_resampled)\n",
    "rf_train_preds = best_rf.predict_proba(X_train_resampled)\n",
    "\n",
    "logistic_features_train = np.hstack((svm_train_preds, rf_train_preds))\n",
    "logistic_features_val = np.hstack((svm_val_preds, rf_val_preds))\n",
    "\n",
    "train_preds_proba = best_logistic_model.predict_proba(logistic_features_train)\n",
    "val_preds_proba = best_logistic_model.predict_proba(logistic_features_val)\n",
    "\n",
    "train_preds = np.argmax(train_preds_proba, axis=1)\n",
    "val_preds = np.argmax(val_preds_proba, axis=1)\n",
    "\n",
    "train_loss = log_loss(train_labels_resampled, train_preds_proba)\n",
    "val_loss = log_loss(val_labels, val_preds_proba)\n",
    "accuracy = np.mean(val_preds == val_labels)\n",
    "f1 = f1_score(val_labels, val_preds, average=\"weighted\")\n",
    "precision = precision_score(val_labels, val_preds, average=\"weighted\")\n",
    "recall = recall_score(val_labels, val_preds, average=\"weighted\")\n",
    "conf_matrix = confusion_matrix(val_labels, val_preds)\n",
    "\n",
    "print(f\"Training Loss: {train_loss:.4f}\")\n",
    "print(f\"Validation Loss: {val_loss:.4f}\")\n",
    "print(f\"Accuracy: {accuracy:.4f}\")\n",
    "print(f\"F1 Score: {f1:.4f}\")\n",
    "print(f\"Precision: {precision:.4f}\")\n",
    "print(f\"Recall: {recall:.4f}\")\n",
    "print(\"\\nConfusion Matrix:\")\n",
    "print(conf_matrix)\n"
   ]
  },
  {
   "cell_type": "code",
   "execution_count": 195,
   "metadata": {},
   "outputs": [
    {
     "data": {
      "image/png": "[encoded data removed]",
      "text/plain": [
       "<Figure size 600x500 with 2 Axes>"
      ]
     },
     "metadata": {},
     "output_type": "display_data"
    }
   ],
   "source": [
    "import matplotlib.pyplot as plt\n",
    "import seaborn as sns\n",
    "\n",
    "class_labels = [\"0 [Negative]\", \"1 [Neutral]\", \"2 [Positive]\"]\n",
    "\n",
    "plt.figure(figsize=(6, 5))\n",
    "sns.heatmap(conf_matrix, annot=True, fmt=\"d\", cmap=\"Blues\", xticklabels=class_labels, yticklabels=class_labels)\n",
    "\n",
    "plt.xlabel(\"Predicted Label\")\n",
    "plt.ylabel(\"True Label\")\n",
    "plt.title(\"Confusion Matrix\")\n",
    "plt.show()"
   ]
  },
  {
   "cell_type": "code",
   "execution_count": null,
   "metadata": {},
   "outputs": [
    {
     "name": "stdout",
     "output_type": "stream",
     "text": [
      "Predicted Rating: Neutral\n"
     ]
    }
   ],
   "source": [
    "import joblib\n",
    "import numpy as np\n",
    "\n",
    "vectorizer = joblib.load(\"meta_pkl/tfidf_vectorizer.pkl\")\n",
    "svm_model = joblib.load(\"meta_pkl/best_svm.pkl\")\n",
    "rf_model = joblib.load(\"meta_pkl/best_rf.pkl\")\n",
    "meta_model = joblib.load(\"meta_pkl/best_logistic_model.pkl\")\n",
    "\n",
    "def predict_rating(input_text):\n",
    "    input_vector = vectorizer.transform([input_text])\n",
    "\n",
    "    svm_pred = svm_model.predict_proba(input_vector)\n",
    "    rf_pred = rf_model.predict_proba(input_vector)\n",
    "\n",
    "    meta_features = np.hstack((svm_pred, rf_pred))\n",
    "\n",
    "    final_pred = meta_model.predict(meta_features)\n",
    "    \n",
    "    rating_map = {0: \"Negative\", 1: \"Neutral\", 2: \"Positive\"}\n",
    "    return rating_map[final_pred[0]]\n",
    "\n",
    "user_text = input(\"Enter a review: \")\n",
    "predicted_rating = predict_rating(user_text)\n",
    "\n",
    "print(f\"Predicted Rating: {predicted_rating}\")"
   ]
  }
 ],
 "metadata": {
  "kernelspec": {
   "display_name": "Python 3",
   "language": "python",
   "name": "python3"
  },
  "language_info": {
   "codemirror_mode": {
    "name": "ipython",
    "version": 3
   },
   "file_extension": ".py",
   "mimetype": "text/x-python",
   "name": "python",
   "nbconvert_exporter": "python",
   "pygments_lexer": "ipython3",
   "version": "3.12.8"
  }
 },
 "nbformat": 4,
 "nbformat_minor": 2
}
